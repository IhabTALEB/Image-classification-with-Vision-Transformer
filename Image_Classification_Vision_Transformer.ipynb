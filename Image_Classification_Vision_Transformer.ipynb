{
  "nbformat": 4,
  "nbformat_minor": 0,
  "metadata": {
    "colab": {
      "name": "Image Classification - Vision Transformer.ipynb",
      "provenance": [],
      "collapsed_sections": [
        "InDCMr5tnCrM",
        "1J3Lvghf2FS8",
        "mhT7tN-cysTF",
        "tONDgDOPRXUJ",
        "qlb7n_wYpMBf",
        "96Dvyi2tjizp",
        "sNJMIHxtokgq",
        "WN4I8HZqRqC3"
      ]
    },
    "kernelspec": {
      "name": "python3",
      "display_name": "Python 3"
    },
    "accelerator": "GPU"
  },
  "cells": [
    {
      "cell_type": "markdown",
      "metadata": {
        "id": "uRPhOfJQyxzC"
      },
      "source": [
        "# Mount drive"
      ]
    },
    {
      "cell_type": "code",
      "metadata": {
        "id": "e44TPMq0nQSO"
      },
      "source": [
        "from google.colab import drive\n",
        "drive.mount('/content/gdrive/') "
      ],
      "execution_count": null,
      "outputs": []
    },
    {
      "cell_type": "markdown",
      "metadata": {
        "id": "InDCMr5tnCrM"
      },
      "source": [
        "# Imports, Constants and Functions"
      ]
    },
    {
      "cell_type": "markdown",
      "metadata": {
        "id": "1J3Lvghf2FS8"
      },
      "source": [
        "## Constants"
      ]
    },
    {
      "cell_type": "code",
      "metadata": {
        "id": "u6Xmx_9Dlzn2",
        "cellView": "form"
      },
      "source": [
        "#@markdown Dataset\n",
        "#@markdown ---\n",
        "IMG_DIMS = 72 #@param {type:\"slider\", min:16, max:256, step:1}\n",
        "NUM_CHANS = 3 #@param {type:\"slider\", min:1, max:4, step:1}\n",
        "#number maximum of images used from the dataset (For small RAMs...)\n",
        "MAX_DATA_SIZE = 7000 #@param {type:\"slider\", min:4000, max:35000, step:1000}\n",
        "NUM_CLASSES = 8 #@param {type:\"slider\", min:2, max:20, step:1}\n",
        "SPLIT_TRAIN_TEST = True #@param {type:\"boolean\"}\n",
        "TRAIN_RATIO = 95 #@param {type:\"slider\", min:60, max:95, step:5}\n",
        "#@markdown ---\n",
        "\n",
        "#@markdown Resizing\n",
        "#@markdown ---\n",
        "SAVE_RESIZED = True #@param {type:\"boolean\"}\n",
        "RESIZED_DIR = \"/content/natural-images\" #@param {type:\"string\"}\n",
        "RESIZED_X=RESIZED_DIR + \"train_x_{}_{}.npy\".format(IMG_DIMS, MAX_DATA_SIZE)\n",
        "RESIZED_Y=RESIZED_DIR + \"train_y_{}_{}.npy\".format(IMG_DIMS, MAX_DATA_SIZE)\n",
        "RESIZED_PATH={\n",
        "    'x': RESIZED_X,\n",
        "    'y': RESIZED_Y\n",
        "}\n",
        "#@markdown ---\n",
        "\n",
        "\n",
        "#@markdown Hyperparameters\n",
        "#@markdown ---\n",
        "#default: 50\n",
        "NUM_EPOCHS = 50 #@param {type:\"slider\", min:10, max:300, step:5}\n",
        "#default: 128\n",
        "BATCH_SIZE = 256 #@param {type:\"slider\", min:32, max:512, step:32}\n",
        "INIT_LR = 0.001 #@param {type:\"number\"}\n",
        "#@markdown ---\n",
        "\n",
        "#@markdown Benchmarks, tests and Outputs\n",
        "#@markdown --\n",
        "IMG_DIR = \"/content/natural-images/data\" #@param {type:\"string\"}\n",
        "OUTPUT_PATH = \"/content/gdrive/MyDrive/Colab Files/vision transformer/classification/natural-images/\" #@param {type:\"string\"}\n",
        "#@markdown ---\n",
        "\n",
        "\n",
        "#@markdown Transformer Parameters\n",
        "#@markdown --\n",
        "patch_size = 6 #@param {type:\"slider\", min:2, max:20, step:1} # Size of the patches to be extract from the input images\n",
        "projection_dim = 64 #@param {type:\"slider\", min:16, max:96, step:16}\n",
        "num_heads = 4 #@param {type:\"slider\", min:1, max:10, step:1}\n",
        "transformer_layers = 8 #@param {type:\"slider\", min:4, max:16, step:1}\n",
        "\n",
        "# weight_decay = 0.0001\n",
        "num_patches = (IMG_DIMS // patch_size) ** 2\n",
        "transformer_units = [\n",
        "    projection_dim * 2,\n",
        "    projection_dim,\n",
        "]  # Size of the transformer layers\n",
        "mlp_head_units = [2048, 1024]  # Size of the dense layers of the final classifier"
      ],
      "execution_count": 2,
      "outputs": []
    },
    {
      "cell_type": "markdown",
      "metadata": {
        "id": "mhT7tN-cysTF"
      },
      "source": [
        "## Imports"
      ]
    },
    {
      "cell_type": "code",
      "metadata": {
        "id": "7dXixNIggroG"
      },
      "source": [
        "from tensorflow.keras.layers import BatchNormalization\n",
        "from tensorflow.keras.layers import Conv2D\n",
        "from tensorflow.keras.layers import Conv2DTranspose\n",
        "from tensorflow.keras.layers import LeakyReLU\n",
        "from tensorflow.keras.layers import Activation\n",
        "from tensorflow.keras.layers import Flatten\n",
        "from tensorflow.keras.layers import Dense\n",
        "from tensorflow.keras.layers import Reshape\n",
        "from tensorflow.keras.layers import Input\n",
        "from tensorflow.keras.layers import Lambda\n",
        "from tensorflow.keras.models import Model\n",
        "from tensorflow.keras import backend as K\n",
        "K.clear_session()\n",
        "import numpy as np\n",
        "\n",
        "import matplotlib\n",
        "matplotlib.use(\"Agg\")\n",
        "\n",
        "from tensorflow.keras.optimizers import Adam\n",
        "import matplotlib.pyplot as plt\n",
        "import cv2\n",
        "\n",
        "import os\n",
        "import random\n",
        "from tensorflow.keras.utils import to_categorical\n",
        "from tensorflow.keras.layers import Dense\n",
        "from tensorflow.keras.layers import Embedding\n",
        "from tensorflow.keras.layers import MultiHeadAttention\n",
        "from tensorflow.keras.layers import Flatten\n",
        "from tensorflow.keras.layers import Dropout\n",
        "from tensorflow.keras.layers import LayerNormalization\n",
        "from tensorflow.keras.layers import Add\n",
        "from tensorflow.keras import Model\n",
        "from sklearn.preprocessing import LabelEncoder\n",
        "import tensorflow.keras\n",
        "\n",
        "import numpy as np\n",
        "import tensorflow as tf\n",
        "from tensorflow import keras\n",
        "from tensorflow.keras import layers\n",
        "import tensorflow_addons as tfa"
      ],
      "execution_count": 3,
      "outputs": []
    },
    {
      "cell_type": "markdown",
      "metadata": {
        "id": "tONDgDOPRXUJ"
      },
      "source": [
        "## Custom Layers"
      ]
    },
    {
      "cell_type": "code",
      "metadata": {
        "id": "r0TvUe0emgnL"
      },
      "source": [
        "def mlp(x, hidden_units, dropout_rate):\n",
        "    for units in hidden_units:\n",
        "        x = layers.Dense(units, activation=tf.nn.gelu)(x)\n",
        "        x = layers.Dropout(dropout_rate)(x)\n",
        "    return x"
      ],
      "execution_count": 4,
      "outputs": []
    },
    {
      "cell_type": "code",
      "metadata": {
        "id": "COJqshz5Ijs5"
      },
      "source": [
        "class Patches(layers.Layer):\n",
        "    def __init__(self, patch_size):\n",
        "        super(Patches, self).__init__()\n",
        "        self.patch_size = patch_size\n",
        "\n",
        "    def call(self, images):\n",
        "        batch_size = tf.shape(images)[0]\n",
        "        patches = tf.image.extract_patches(\n",
        "            images=images,\n",
        "            sizes=[1, self.patch_size, self.patch_size, 1],\n",
        "            strides=[1, self.patch_size, self.patch_size, 1],\n",
        "            rates=[1, 1, 1, 1],\n",
        "            padding=\"VALID\",\n",
        "        )\n",
        "        patch_dims = patches.shape[-1]\n",
        "        patches = tf.reshape(patches, [batch_size, -1, patch_dims])\n",
        "        return patches\n"
      ],
      "execution_count": 5,
      "outputs": []
    },
    {
      "cell_type": "code",
      "metadata": {
        "id": "x056JCsELJnV"
      },
      "source": [
        "class PatchEncoder(layers.Layer):\n",
        "    def __init__(self, num_patches, projection_dim):\n",
        "        super(PatchEncoder, self).__init__()\n",
        "        self.num_patches = num_patches\n",
        "        self.projection = Dense(units=projection_dim)\n",
        "        self.position_embedding = Embedding(\n",
        "            input_dim=num_patches, output_dim=projection_dim\n",
        "        )\n",
        "\n",
        "    def call(self, patch):\n",
        "        positions = tf.range(start=0, limit=self.num_patches, delta=1)\n",
        "        encoded = self.projection(patch) + self.position_embedding(positions)\n",
        "        return encoded\n"
      ],
      "execution_count": 6,
      "outputs": []
    },
    {
      "cell_type": "markdown",
      "metadata": {
        "id": "qlb7n_wYpMBf"
      },
      "source": [
        "## Prepare Kaggle-cli"
      ]
    },
    {
      "cell_type": "code",
      "metadata": {
        "id": "ZzzeSFfSnDnN",
        "colab": {
          "base_uri": "https://localhost:8080/"
        },
        "outputId": "631c6373-da65-4672-caf5-02ecf7806ffc"
      },
      "source": [
        "%%shell\n",
        "\n",
        "#!/bin/bash\n",
        "if [ -e \"~/.kaggle/kaggle.json\" ]\n",
        "then\n",
        "\techo \"kaggle.json already exists\"\n",
        "\techo \"Skipping to next cell...\"\n",
        "else\n",
        "\techo \"Preparing Kaggle-cli...\"\n",
        "\tpip install -q kaggle\n",
        "\tpip install -q kaggle-cli\n",
        "\n",
        "\tmkdir -p ~/.kaggle\n",
        "\tcp \"/content/gdrive/MyDrive/Colab Files/Kaggle/kaggle.json\" ~/.kaggle/\n",
        "\tcat ~/.kaggle/kaggle.json \n",
        "\tchmod 600 ~/.kaggle/kaggle.json\n",
        "fi"
      ],
      "execution_count": 7,
      "outputs": [
        {
          "output_type": "stream",
          "text": [
            "Preparing Kaggle-cli...\n",
            "\u001b[K     |████████████████████████████████| 81kB 5.6MB/s \n",
            "\u001b[K     |████████████████████████████████| 5.3MB 9.6MB/s \n",
            "\u001b[K     |████████████████████████████████| 51kB 8.5MB/s \n",
            "\u001b[K     |████████████████████████████████| 112kB 52.2MB/s \n",
            "\u001b[K     |████████████████████████████████| 143kB 61.8MB/s \n",
            "\u001b[?25h  Building wheel for kaggle-cli (setup.py) ... \u001b[?25l\u001b[?25hdone\n",
            "  Building wheel for PrettyTable (setup.py) ... \u001b[?25l\u001b[?25hdone\n",
            "  Building wheel for pyperclip (setup.py) ... \u001b[?25l\u001b[?25hdone\n",
            "{\"username\":\"ihabtaleb\",\"key\":\"59d8093446387a51abb5f7e82b9dd58e\"}"
          ],
          "name": "stdout"
        },
        {
          "output_type": "execute_result",
          "data": {
            "text/plain": [
              ""
            ]
          },
          "metadata": {
            "tags": []
          },
          "execution_count": 7
        }
      ]
    },
    {
      "cell_type": "markdown",
      "metadata": {
        "id": "3P_JIcUTgOMW"
      },
      "source": [
        "# Data Preprocessing"
      ]
    },
    {
      "cell_type": "markdown",
      "metadata": {
        "id": "96Dvyi2tjizp"
      },
      "source": [
        "## Download and Unzip The DataSet\n",
        "\n"
      ]
    },
    {
      "cell_type": "code",
      "metadata": {
        "id": "K-bFNwDWjy4u"
      },
      "source": [
        "%%shell\n",
        "\n",
        "#!/bin/bash\n",
        "if [ -e \"/content/natural-images.zip\" ]\n",
        "then\n",
        "\t\techo \"Dataset already downloaded\"\n",
        "\t\techo \"Skipping to next cell...\"\n",
        "else\n",
        "\t\techo \"Downloading Dataset...\"\n",
        "    kaggle datasets download -d prasunroy/natural-images\n",
        "\t\techo \"Unzipping Dataset...\"\n",
        "\t\tunzip \"/content/natural-images.zip\" -d \"/content/natural-images\"\n",
        "    echo \"Done.\"\n",
        "fi"
      ],
      "execution_count": null,
      "outputs": []
    },
    {
      "cell_type": "markdown",
      "metadata": {
        "id": "sNJMIHxtokgq"
      },
      "source": [
        "## Prepare and Save The DataSet"
      ]
    },
    {
      "cell_type": "code",
      "metadata": {
        "id": "GOqbQtPY0IF1"
      },
      "source": [
        "def prepare_dataset(ds_exists = False, img_dim = IMG_DIMS, save_resized = SAVE_RESIZED, resized_path = RESIZED_PATH,\n",
        "                    max_data_size = MAX_DATA_SIZE, split_train_test = SPLIT_TRAIN_TEST, train_ratio = TRAIN_RATIO):\n",
        "  if ds_exists:\n",
        "    totalImages = np.load(resized_path['x'])\n",
        "    totalY = np.load(resized_path['y'])\n",
        "    if split_train_test:\n",
        "      train_test=int(max_data_size*(train_ratio/100))\n",
        "      print (\"train/test = \", train_test, \"/\", totalImages.shape[0]-train_test)\n",
        "      return (totalImages[:train_test,:,:,:], totalY[:train_test]), (totalImages[train_test:,:,:,:], totalY[train_test:])\n",
        "    else:\n",
        "      return (totalImages, totalY), (np.array(), np.array())\n",
        "  else:\n",
        "    images=[]\n",
        "    y=[]\n",
        "    length=1\n",
        "    dim=0\n",
        "    all_img_paths = [os.path.join(dp, f) for dp, dn, fn in os.walk(IMG_DIR) for f in fn]\n",
        "    random.shuffle(all_img_paths)\n",
        "    for image_path in all_img_paths:\n",
        "      img = cv2.imread(image_path)\n",
        "      resized = cv2.resize(img,(img_dim,img_dim))\n",
        "      images.append(resized)\n",
        "      y.append(os.path.dirname(image_path))\n",
        "      length += 1\n",
        "      if length>max_data_size:\n",
        "        break\n",
        "    del all_img_paths\n",
        "    totalImages=np.array(images)\n",
        "    y_array=np.array(y)\n",
        "    label_encoder = LabelEncoder()\n",
        "    y_enc = label_encoder.fit_transform(y_array)\n",
        "    totalY = y_enc\n",
        "    del images\n",
        "    totalImages = totalImages.astype(\"float\")/255\n",
        "    if save_resized:\n",
        "      np.save(resized_path['x'],totalImages)\n",
        "      np.save(resized_path['y'],totalY)\n",
        "      print(\"Resized images saved in path: \", RESIZED_PATH)\n",
        "    if split_train_test:\n",
        "      train_test=int(max_data_size*(train_ratio/100))\n",
        "      print (\"train/test = \", train_test, \"/\", max_data_size-train_test)\n",
        "      return (totalImages[:train_test,:,:,:], totalY[:train_test]), (totalImages[train_test:,:,:,:], totalY[train_test:])\n",
        "    else:\n",
        "      return (totalImages, totalY), (np.array(), np.array())"
      ],
      "execution_count": 9,
      "outputs": []
    },
    {
      "cell_type": "code",
      "metadata": {
        "id": "Baq6DrD8olNc"
      },
      "source": [
        "if os.path.isfile(RESIZED_PATH['y']):\n",
        "\tprint(\".npy file already exists\")\n",
        "\tprint(\"Reading the existing file...\")\n",
        "\t(x_train, y_train), (x_test, y_test) = prepare_dataset(ds_exists = True)\n",
        "else:\n",
        "\t(x_train, y_train), (x_test, y_test) = prepare_dataset()\n",
        "\tprint(\"Dataset prepared\")\n",
        "\n",
        "print(f\"x_train shape: {x_train.shape} - y_train shape: {y_train.shape}\")\n",
        "print(f\"x_test shape: {x_test.shape} - y_test shape: {y_test.shape}\")"
      ],
      "execution_count": null,
      "outputs": []
    },
    {
      "cell_type": "markdown",
      "metadata": {
        "id": "WN4I8HZqRqC3"
      },
      "source": [
        "# Transformer Model"
      ]
    },
    {
      "cell_type": "code",
      "metadata": {
        "id": "LingafjgLM9G"
      },
      "source": [
        "def create_vit_classifier():\n",
        "    inputs = Input((IMG_DIMS, IMG_DIMS, NUM_CHANS))\n",
        "    # Create patches.\n",
        "    patches = Patches(patch_size)(inputs)\n",
        "    # Encode patches.\n",
        "    encoded_patches = PatchEncoder(num_patches, projection_dim)(patches)\n",
        "\n",
        "    # Create multiple layers of the Transformer block.\n",
        "    for _ in range(transformer_layers):\n",
        "        attention_output = MultiHeadAttention(\n",
        "            num_heads=num_heads, key_dim=projection_dim, dropout=0.1\n",
        "        )(encoded_patches, encoded_patches)\n",
        "        x2 = layers.Add()([attention_output, encoded_patches])\n",
        "        x3 = LayerNormalization(epsilon=1e-6)(x2)\n",
        "        ff = mlp(x3, hidden_units=transformer_units, dropout_rate=0.1)\n",
        "        encoded_patches = Add()([x3, ff])\n",
        "        encoded_patches = LayerNormalization(epsilon=1e-6)(encoded_patches)\n",
        "\n",
        "    # Create a [batch_size, projection_dim] tensor.\n",
        "    representation = Flatten()(encoded_patches)\n",
        "    representation = Dropout(0.5)(representation)\n",
        "    features = mlp(representation, hidden_units=mlp_head_units, dropout_rate=0.5)\n",
        "    # Classify outputs.\n",
        "    logits = Dense(NUM_CLASSES)(features)\n",
        "    # Create the Keras model.\n",
        "    model = Model(inputs=inputs, outputs=logits)\n",
        "    return model\n"
      ],
      "execution_count": 11,
      "outputs": []
    },
    {
      "cell_type": "markdown",
      "metadata": {
        "id": "QaRHP2zySFYu"
      },
      "source": [
        "# Training"
      ]
    },
    {
      "cell_type": "code",
      "metadata": {
        "id": "LwzgK5ZNLP0Q",
        "colab": {
          "base_uri": "https://localhost:8080/"
        },
        "outputId": "5d49dc14-2ef7-4070-8d8e-a0e7ae620197"
      },
      "source": [
        "transformer = create_vit_classifier()\n",
        "\n",
        "transformer.compile(\n",
        "    optimizer=Adam(lr=INIT_LR),\n",
        "    loss = keras.losses.SparseCategoricalCrossentropy(from_logits=True),\n",
        "    metrics=[\n",
        "             keras.metrics.SparseCategoricalAccuracy(name=\"accuracy\")#,\n",
        "    ],\n",
        ")\n",
        "history = transformer.fit(x=x_train, y=y_train, batch_size=BATCH_SIZE, epochs=NUM_EPOCHS, shuffle=True, validation_split=0.1,)\n",
        "print(\"\\nEvaluating System...\")\n",
        "_, accuracy = transformer.evaluate(x_test, y_test)\n",
        "print(\"Accuracy: \", round(accuracy * 100, 2), \"%\")"
      ],
      "execution_count": 12,
      "outputs": [
        {
          "output_type": "stream",
          "text": [
            "Epoch 1/50\n",
            "24/24 [==============================] - 19s 417ms/step - loss: 7.4683 - accuracy: 0.1331 - val_loss: 2.0716 - val_accuracy: 0.1429\n",
            "Epoch 2/50\n",
            "24/24 [==============================] - 9s 370ms/step - loss: 2.1263 - accuracy: 0.1435 - val_loss: 2.0693 - val_accuracy: 0.1263\n",
            "Epoch 3/50\n",
            "24/24 [==============================] - 9s 372ms/step - loss: 2.0734 - accuracy: 0.1450 - val_loss: 1.9688 - val_accuracy: 0.2737\n",
            "Epoch 4/50\n",
            "24/24 [==============================] - 9s 374ms/step - loss: 2.0389 - accuracy: 0.1798 - val_loss: 1.9103 - val_accuracy: 0.2722\n",
            "Epoch 5/50\n",
            "24/24 [==============================] - 9s 375ms/step - loss: 1.9579 - accuracy: 0.2230 - val_loss: 1.8291 - val_accuracy: 0.2872\n",
            "Epoch 6/50\n",
            "24/24 [==============================] - 9s 377ms/step - loss: 1.8966 - accuracy: 0.2499 - val_loss: 1.7889 - val_accuracy: 0.3398\n",
            "Epoch 7/50\n",
            "24/24 [==============================] - 9s 379ms/step - loss: 1.8463 - accuracy: 0.2974 - val_loss: 1.7362 - val_accuracy: 0.3278\n",
            "Epoch 8/50\n",
            "24/24 [==============================] - 9s 382ms/step - loss: 1.7294 - accuracy: 0.3360 - val_loss: 1.5296 - val_accuracy: 0.4346\n",
            "Epoch 9/50\n",
            "24/24 [==============================] - 9s 383ms/step - loss: 1.4949 - accuracy: 0.4428 - val_loss: 0.9536 - val_accuracy: 0.6722\n",
            "Epoch 10/50\n",
            "24/24 [==============================] - 9s 386ms/step - loss: 1.0314 - accuracy: 0.6258 - val_loss: 0.5979 - val_accuracy: 0.7835\n",
            "Epoch 11/50\n",
            "24/24 [==============================] - 9s 388ms/step - loss: 0.6968 - accuracy: 0.7492 - val_loss: 0.4915 - val_accuracy: 0.8045\n",
            "Epoch 12/50\n",
            "24/24 [==============================] - 9s 390ms/step - loss: 0.5295 - accuracy: 0.8082 - val_loss: 0.3922 - val_accuracy: 0.8556\n",
            "Epoch 13/50\n",
            "24/24 [==============================] - 9s 392ms/step - loss: 0.4200 - accuracy: 0.8448 - val_loss: 0.3463 - val_accuracy: 0.8707\n",
            "Epoch 14/50\n",
            "24/24 [==============================] - 9s 394ms/step - loss: 0.3682 - accuracy: 0.8590 - val_loss: 0.3384 - val_accuracy: 0.8737\n",
            "Epoch 15/50\n",
            "24/24 [==============================] - 9s 391ms/step - loss: 0.2963 - accuracy: 0.8884 - val_loss: 0.3111 - val_accuracy: 0.8872\n",
            "Epoch 16/50\n",
            "24/24 [==============================] - 9s 390ms/step - loss: 0.2609 - accuracy: 0.9054 - val_loss: 0.3173 - val_accuracy: 0.8767\n",
            "Epoch 17/50\n",
            "24/24 [==============================] - 9s 391ms/step - loss: 0.2056 - accuracy: 0.9224 - val_loss: 0.2933 - val_accuracy: 0.8857\n",
            "Epoch 18/50\n",
            "24/24 [==============================] - 9s 390ms/step - loss: 0.1872 - accuracy: 0.9291 - val_loss: 0.2992 - val_accuracy: 0.8962\n",
            "Epoch 19/50\n",
            "24/24 [==============================] - 9s 391ms/step - loss: 0.1559 - accuracy: 0.9429 - val_loss: 0.3238 - val_accuracy: 0.8797\n",
            "Epoch 20/50\n",
            "24/24 [==============================] - 9s 391ms/step - loss: 0.1478 - accuracy: 0.9478 - val_loss: 0.3004 - val_accuracy: 0.9053\n",
            "Epoch 21/50\n",
            "24/24 [==============================] - 9s 391ms/step - loss: 0.1248 - accuracy: 0.9608 - val_loss: 0.3136 - val_accuracy: 0.9083\n",
            "Epoch 22/50\n",
            "24/24 [==============================] - 9s 391ms/step - loss: 0.1117 - accuracy: 0.9597 - val_loss: 0.2722 - val_accuracy: 0.9008\n",
            "Epoch 23/50\n",
            "24/24 [==============================] - 9s 392ms/step - loss: 0.0966 - accuracy: 0.9672 - val_loss: 0.2948 - val_accuracy: 0.9053\n",
            "Epoch 24/50\n",
            "24/24 [==============================] - 9s 391ms/step - loss: 0.0936 - accuracy: 0.9638 - val_loss: 0.3046 - val_accuracy: 0.9113\n",
            "Epoch 25/50\n",
            "24/24 [==============================] - 9s 391ms/step - loss: 0.0926 - accuracy: 0.9722 - val_loss: 0.3568 - val_accuracy: 0.9023\n",
            "Epoch 26/50\n",
            "24/24 [==============================] - 9s 392ms/step - loss: 0.0777 - accuracy: 0.9747 - val_loss: 0.2901 - val_accuracy: 0.9083\n",
            "Epoch 27/50\n",
            "24/24 [==============================] - 9s 392ms/step - loss: 0.0754 - accuracy: 0.9754 - val_loss: 0.3102 - val_accuracy: 0.9128\n",
            "Epoch 28/50\n",
            "24/24 [==============================] - 9s 391ms/step - loss: 0.0795 - accuracy: 0.9732 - val_loss: 0.3869 - val_accuracy: 0.8872\n",
            "Epoch 29/50\n",
            "24/24 [==============================] - 9s 391ms/step - loss: 0.0791 - accuracy: 0.9752 - val_loss: 0.3576 - val_accuracy: 0.9068\n",
            "Epoch 30/50\n",
            "24/24 [==============================] - 9s 391ms/step - loss: 0.0555 - accuracy: 0.9846 - val_loss: 0.3070 - val_accuracy: 0.9173\n",
            "Epoch 31/50\n",
            "24/24 [==============================] - 9s 391ms/step - loss: 0.0489 - accuracy: 0.9846 - val_loss: 0.3708 - val_accuracy: 0.9158\n",
            "Epoch 32/50\n",
            "24/24 [==============================] - 9s 391ms/step - loss: 0.0346 - accuracy: 0.9889 - val_loss: 0.3452 - val_accuracy: 0.9203\n",
            "Epoch 33/50\n",
            "24/24 [==============================] - 9s 391ms/step - loss: 0.0493 - accuracy: 0.9829 - val_loss: 0.3118 - val_accuracy: 0.9173\n",
            "Epoch 34/50\n",
            "24/24 [==============================] - 9s 391ms/step - loss: 0.0437 - accuracy: 0.9848 - val_loss: 0.3656 - val_accuracy: 0.9053\n",
            "Epoch 35/50\n",
            "24/24 [==============================] - 9s 391ms/step - loss: 0.0433 - accuracy: 0.9853 - val_loss: 0.3022 - val_accuracy: 0.9068\n",
            "Epoch 36/50\n",
            "24/24 [==============================] - 9s 391ms/step - loss: 0.0474 - accuracy: 0.9843 - val_loss: 0.3323 - val_accuracy: 0.9038\n",
            "Epoch 37/50\n",
            "24/24 [==============================] - 9s 391ms/step - loss: 0.0409 - accuracy: 0.9848 - val_loss: 0.3464 - val_accuracy: 0.9068\n",
            "Epoch 38/50\n",
            "24/24 [==============================] - 9s 391ms/step - loss: 0.0514 - accuracy: 0.9859 - val_loss: 0.4213 - val_accuracy: 0.9008\n",
            "Epoch 39/50\n",
            "24/24 [==============================] - 9s 390ms/step - loss: 0.0448 - accuracy: 0.9879 - val_loss: 0.3060 - val_accuracy: 0.9143\n",
            "Epoch 40/50\n",
            "24/24 [==============================] - 9s 391ms/step - loss: 0.0307 - accuracy: 0.9899 - val_loss: 0.3532 - val_accuracy: 0.9038\n",
            "Epoch 41/50\n",
            "24/24 [==============================] - 9s 391ms/step - loss: 0.0408 - accuracy: 0.9879 - val_loss: 0.3507 - val_accuracy: 0.9038\n",
            "Epoch 42/50\n",
            "24/24 [==============================] - 9s 391ms/step - loss: 0.0354 - accuracy: 0.9869 - val_loss: 0.3488 - val_accuracy: 0.9068\n",
            "Epoch 43/50\n",
            "24/24 [==============================] - 9s 391ms/step - loss: 0.0398 - accuracy: 0.9868 - val_loss: 0.3604 - val_accuracy: 0.9143\n",
            "Epoch 44/50\n",
            "24/24 [==============================] - 9s 391ms/step - loss: 0.0569 - accuracy: 0.9816 - val_loss: 0.3546 - val_accuracy: 0.9143\n",
            "Epoch 45/50\n",
            "24/24 [==============================] - 9s 391ms/step - loss: 0.0291 - accuracy: 0.9901 - val_loss: 0.3619 - val_accuracy: 0.9038\n",
            "Epoch 46/50\n",
            "24/24 [==============================] - 9s 396ms/step - loss: 0.0691 - accuracy: 0.9815 - val_loss: 0.3373 - val_accuracy: 0.9218\n",
            "Epoch 47/50\n",
            "24/24 [==============================] - 9s 391ms/step - loss: 0.0414 - accuracy: 0.9874 - val_loss: 0.3403 - val_accuracy: 0.9068\n",
            "Epoch 48/50\n",
            "24/24 [==============================] - 9s 391ms/step - loss: 0.0429 - accuracy: 0.9863 - val_loss: 0.3342 - val_accuracy: 0.9143\n",
            "Epoch 49/50\n",
            "24/24 [==============================] - 9s 391ms/step - loss: 0.0347 - accuracy: 0.9872 - val_loss: 0.3606 - val_accuracy: 0.9023\n",
            "Epoch 50/50\n",
            "24/24 [==============================] - 9s 391ms/step - loss: 0.0486 - accuracy: 0.9834 - val_loss: 0.4131 - val_accuracy: 0.9083\n",
            "\n",
            "Evaluating System...\n",
            "8/8 [==============================] - 0s 20ms/step - loss: 0.3907 - accuracy: 0.9237\n",
            "Accuracy:  92.37 %\n"
          ],
          "name": "stdout"
        }
      ]
    }
  ]
}